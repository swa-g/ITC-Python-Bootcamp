{
 "cells": [
  {
   "cell_type": "code",
   "execution_count": 13,
   "metadata": {},
   "outputs": [
    {
     "name": "stdout",
     "output_type": "stream",
     "text": [
      "4\n",
      "24\n",
      "{'doll', 'She', 'He', 'the', 'on', 'is', 'field', 'running', 'playing', 'ball', 'with', 'road'}\n",
      "{'He': 2, 'is': 4, 'running': 2, 'on': 2, 'the': 4, 'field': 1, 'playing': 2, 'with': 2, 'ball': 1, 'She': 2, 'road': 1, 'doll': 1}\n"
     ]
    }
   ],
   "source": [
    "text = \"\"\"He is running on the field.\n",
    " He is playing with the ball.\n",
    " She is running on the road.\n",
    " She is playing with the doll.\"\"\"\n",
    "\n",
    "sentences = text.split(\"\\n\")\n",
    "print(len(sentences))\n",
    "\n",
    "text2 = text.replace('\\n','')\n",
    "print(len(text2.split(' ')))\n",
    "\n",
    "text3 = text2.replace('.','')\n",
    "\n",
    "set_of_words = set({})\n",
    "for item in (text3.split(' ')):\n",
    "    set_of_words.add(item)\n",
    "print(set_of_words)\n",
    "\n",
    "words = text3.split(' ')\n",
    "\n",
    "freq={}\n",
    "\n",
    "for word in words:\n",
    "    if word not in freq.keys():\n",
    "        freq[word]=1\n",
    "    else:\n",
    "        freq[word]+=1\n",
    "\n",
    "print(freq)"
   ]
  },
  {
   "cell_type": "code",
   "execution_count": null,
   "metadata": {},
   "outputs": [],
   "source": []
  }
 ],
 "metadata": {
  "kernelspec": {
   "display_name": "base",
   "language": "python",
   "name": "python3"
  },
  "language_info": {
   "codemirror_mode": {
    "name": "ipython",
    "version": 3
   },
   "file_extension": ".py",
   "mimetype": "text/x-python",
   "name": "python",
   "nbconvert_exporter": "python",
   "pygments_lexer": "ipython3",
   "version": "3.12.7"
  }
 },
 "nbformat": 4,
 "nbformat_minor": 2
}
