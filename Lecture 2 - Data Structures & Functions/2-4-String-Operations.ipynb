{
 "cells": [
  {
   "cell_type": "markdown",
   "metadata": {},
   "source": [
    "# Tutorial on Strings in Python\n",
    "\n",
    "Strings are one of the most commonly used data types in Python. They are sequences of characters, which can include letters, numbers, symbols, and whitespace. Strings are immutable, meaning once they are created, they cannot be changed.\n",
    "\n",
    "## Creating Strings\n",
    "\n",
    "You can create strings using single quotes, double quotes, or triple quotes.\n"
   ]
  },
  {
   "cell_type": "code",
   "execution_count": null,
   "metadata": {},
   "outputs": [],
   "source": [
    "# Single quotes\n",
    "string1 = 'Hello, World!'\n",
    "\n",
    "# Double quotes\n",
    "string2 = \"Hello, World!\"\n",
    "\n",
    "# Triple quotes (for multi-line strings)\n",
    "string3 = '''Hello,\n",
    "World!'''\n",
    "\n",
    "print(string1, string2, string3, sep='\\n')"
   ]
  },
  {
   "cell_type": "markdown",
   "metadata": {},
   "source": [
    "## Important String Functions\n",
    "\n",
    "1. `len()`: Returns the length of the string.\n",
    "2. `str()`: Converts a value to a string.\n",
    "3. `lower()`: Converts all characters in the string to lowercase.\n",
    "4. `upper()`: Converts all characters in the string to uppercase.\n",
    "5. `strip()`: Removes leading and trailing whitespace from the string.\n",
    "6. `split()`: Splits the string into a list of substrings based on a delimiter.\n",
    "7. `join()`: Joins a list of strings into a single string with a specified delimiter.\n",
    "8. `replace()`: Replaces occurrences of a substring with another substring.\n",
    "9. `find()` :Returns the index of the first occurrence of a substring. Returns `-1` if the substring is not found.\n",
    "10. `format()`: Formats the string using placeholders.\n",
    "11. `startswith()`: Checks if the string starts with a specified substring.\n",
    "12. `endswith()`: Checks if the string ends with a specified substring.\n",
    "13. `isalpha()`: Checks if all characters in the string are alphabetic.\n",
    "14. `isdigit()`: Checks if all characters in the string are digits.\n",
    "15. `isalnum()`: Checks if all characters in the string are alphanumeric (letters and numbers)."
   ]
  },
  {
   "cell_type": "code",
   "execution_count": null,
   "metadata": {},
   "outputs": [],
   "source": [
    "length = len(string1)\n",
    "print(length)  # Output: 13\n",
    "\n",
    "num = 123\n",
    "num_str = str(num)\n",
    "print(num_str)  # Output: '123'\n",
    "\n",
    "lowercase_string = string1.lower()\n",
    "print(lowercase_string)  # Output: 'hello, world!'\n",
    "\n",
    "uppercase_string = string1.upper()\n",
    "print(uppercase_string)  # Output: 'HELLO, WORLD!'\n",
    "\n",
    "string_with_spaces = '   Hello, World!   '\n",
    "stripped_string = string_with_spaces.strip()\n",
    "print(stripped_string)  # Output: 'Hello, World!'\n",
    "\n",
    "split_string = string1.split(',')\n",
    "print(split_string)  # Output: ['Hello', ' World!']\n",
    "\n",
    "list_of_strings = ['Hello', 'World']\n",
    "joined_string = ' '.join(list_of_strings)\n",
    "print(joined_string)  # Output: 'Hello World'\n",
    "\n",
    "replaced_string = string1.replace('World', 'Python')\n",
    "print(replaced_string)  # Output: 'Hello, Python!'\n",
    "\n",
    "index = string1.find('World')\n",
    "print(index)  # Output: 7\n",
    "\n",
    "formatted_string = 'Hello, {}!'.format('Python')\n",
    "print(formatted_string)  # Output: 'Hello, Python!'\n",
    "\n",
    "starts_with_hello = string1.startswith('Hello')\n",
    "print(starts_with_hello)  # Output: True\n",
    "\n",
    "ends_with_world = string1.endswith('World!')\n",
    "print(ends_with_world)  # Output: True\n",
    "\n",
    "alpha_string = 'Hello'\n",
    "print(alpha_string.isalpha())  # Output: True\n",
    "\n",
    "digit_string = '12345'\n",
    "print(digit_string.isdigit())  # Output: True\n",
    "\n",
    "alnum_string = 'Hello123'\n",
    "print(alnum_string.isalnum())  # Output: True\n"
   ]
  },
  {
   "cell_type": "code",
   "execution_count": null,
   "metadata": {},
   "outputs": [],
   "source": []
  },
  {
   "cell_type": "markdown",
   "metadata": {},
   "source": [
    "## Important String Functions\n",
    "\n",
    "### 1. `len()`\n",
    "Returns the length of the string.\n",
    "\n",
    "\n",
    "\n",
    "## Conclusion\n",
    "\n",
    "Strings are a fundamental part of Python programming. Understanding and utilizing these string functions will help you manipulate and work with text data more effectively."
   ]
  }
 ],
 "metadata": {
  "kernelspec": {
   "display_name": "base",
   "language": "python",
   "name": "python3"
  },
  "language_info": {
   "codemirror_mode": {
    "name": "ipython",
    "version": 3
   },
   "file_extension": ".py",
   "mimetype": "text/x-python",
   "name": "python",
   "nbconvert_exporter": "python",
   "pygments_lexer": "ipython3",
   "version": "3.12.7"
  }
 },
 "nbformat": 4,
 "nbformat_minor": 2
}
