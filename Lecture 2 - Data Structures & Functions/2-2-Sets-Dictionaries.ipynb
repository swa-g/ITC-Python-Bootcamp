{
 "cells": [
  {
   "cell_type": "markdown",
   "metadata": {},
   "source": [
    "# Tutorial on Sets and Dictionaries in Python\n",
    "\n",
    "## Sets\n",
    "\n",
    "A set is an unordered collection of unique elements. Sets are useful when you need to eliminate duplicate values or perform mathematical set operations like union, intersection, and difference.\n",
    "\n",
    "\n",
    "### Creating a Set\n",
    "\n",
    "You can create a set by placing comma-separated values inside curly braces `{}` or by using the `set()` function."
   ]
  },
  {
   "cell_type": "code",
   "execution_count": null,
   "metadata": {},
   "outputs": [],
   "source": [
    "# Using curly braces\n",
    "my_set = {1, 2, 3, 4, 5}\n",
    "\n",
    "# Using the set() function\n",
    "another_set = set([1, 2, 3, 4, 5])"
   ]
  },
  {
   "cell_type": "markdown",
   "metadata": {},
   "source": [
    "### Adding Elements to a Set\n",
    "\n",
    "You can add elements to a set using the `add()` method."
   ]
  },
  {
   "cell_type": "code",
   "execution_count": null,
   "metadata": {},
   "outputs": [],
   "source": [
    "my_set.add(6)"
   ]
  },
  {
   "cell_type": "markdown",
   "metadata": {},
   "source": [
    "### Removing Elements from a Set\n",
    "\n",
    "You can remove elements using the `remove()` or `discard()` methods. The `remove()` method will raise an error if the element is not found, while `discard()` will not."
   ]
  },
  {
   "cell_type": "code",
   "execution_count": null,
   "metadata": {},
   "outputs": [],
   "source": [
    "my_set.remove(6)\n",
    "my_set.discard(6)"
   ]
  },
  {
   "cell_type": "markdown",
   "metadata": {},
   "source": [
    "### Set Operations\n",
    "\n",
    "**Union**: Combines elements from both sets.\n",
    "**Intersection**: Returns elements that are common to both sets.\n",
    "**Difference**: Returns elements that are in the first set but not in the second.\n",
    "**Symmetric Difference**: Returns elements that are in either of the sets, but not in both."
   ]
  },
  {
   "cell_type": "code",
   "execution_count": null,
   "metadata": {},
   "outputs": [],
   "source": [
    "set1 = {1, 2, 3}\n",
    "set2 = {3, 4, 5}\n",
    "union_set = set1.union(set2)  # {1, 2, 3, 4, 5}\n",
    "intersection_set = set1.intersection(set2)\n",
    "difference_set = set1.difference(set2)  # {1, 2}\n",
    "symmetric_difference_set = set1.symmetric_difference(set2)  # {1, 2, 4, 5}"
   ]
  },
  {
   "cell_type": "markdown",
   "metadata": {},
   "source": [
    "## Dictionaries\n",
    "\n",
    "A dictionary is an unordered collection of key-value pairs. Each key must be unique, and keys are used to access the corresponding values.\n",
    "\n",
    "### Creating a Dictionary\n",
    "\n",
    "You can create a dictionary by placing comma-separated key-value pairs inside curly braces `{}` or by using the `dict()` function."
   ]
  },
  {
   "cell_type": "code",
   "execution_count": null,
   "metadata": {},
   "outputs": [],
   "source": [
    "# Using curly braces\n",
    "my_dict = {'name': 'Alice', 'age': 25, 'city': 'New York'}\n",
    "\n",
    "# Using the dict() function\n",
    "another_dict = dict(name='Bob', age=30, city='Los Angeles')"
   ]
  },
  {
   "cell_type": "markdown",
   "metadata": {},
   "source": [
    "### Accessing Values\n",
    "\n",
    "You can access values by using the keys."
   ]
  },
  {
   "cell_type": "code",
   "execution_count": null,
   "metadata": {},
   "outputs": [],
   "source": [
    "name = my_dict['name']  # 'Alice'"
   ]
  },
  {
   "cell_type": "markdown",
   "metadata": {},
   "source": [
    "### Adding and Updating Key-Value Pairs\n",
    "\n",
    "You can add or update key-value pairs by assigning a value to a key."
   ]
  },
  {
   "cell_type": "code",
   "execution_count": null,
   "metadata": {},
   "outputs": [],
   "source": [
    "my_dict['email'] = 'alice@example.com'  # Adding a new key-value pair\n",
    "my_dict['age'] = 26  # Updating an existing key-value pair"
   ]
  },
  {
   "cell_type": "markdown",
   "metadata": {},
   "source": [
    "### Removing Key-Value Pairs\n",
    "\n",
    "You can remove key-value pairs using the `del` statement or the `pop()` method."
   ]
  },
  {
   "cell_type": "code",
   "execution_count": null,
   "metadata": {},
   "outputs": [],
   "source": [
    "del my_dict['email']\n",
    "age = my_dict.pop('age')"
   ]
  },
  {
   "cell_type": "markdown",
   "metadata": {},
   "source": [
    "### Dictionary Methods\n",
    "- **keys()**: Returns a view object containing the keys.\n",
    "- **values()**: Returns a view object containing the values.\n",
    "- **items()**: Returns a view object containing the key-value pairs.\n",
    "- **get()**: Returns the value for a key if the key is in the dictionary, else returns a default value.\n",
    "- **update()**: Updates the dictionary with the key-value pairs from another dictionary or from an iterable of key-value pairs."
   ]
  },
  {
   "cell_type": "code",
   "execution_count": null,
   "metadata": {},
   "outputs": [],
   "source": [
    "keys = my_dict.keys()  # dict_keys(['name', 'city'])\n",
    "values = my_dict.values()  # dict_values(['Alice', 'New York'])\n",
    "items = my_dict.items()  # dict_items([('name', 'Alice'), ('city', 'New York')])\n",
    "age = my_dict.get('age', 'Not Found')  # 'Not Found'\n",
    "my_dict.update({'age': 26, 'email': 'alice@example.com'})"
   ]
  }
 ],
 "metadata": {
  "language_info": {
   "name": "python"
  }
 },
 "nbformat": 4,
 "nbformat_minor": 2
}
