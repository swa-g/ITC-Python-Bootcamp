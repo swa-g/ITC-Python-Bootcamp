{
 "cells": [
  {
   "cell_type": "markdown",
   "metadata": {},
   "source": [
    "# Pandas Series\n",
    "\n",
    "A Pandas Series is a one-dimensional labeled array capable of holding any data type (integers, strings, floating point numbers, Python objects, etc.). The axis labels are collectively referred to as the index. A Series is like a fixed-size dictionary in that you can get and set values by index label.\n",
    "\n",
    "## Features of Pandas Series\n",
    "\n",
    "1. **Creation**: You can create a Series from an array, list, dictionary, or scalar value.\n",
    "2. **Indexing and Slicing**: Series supports both integer and label-based indexing and slicing.\n",
    "3. **Data Alignment**: Series automatically aligns data based on the index label.\n",
    "4. **Vectorized Operations**: Series supports vectorized operations and can be used with NumPy functions.\n",
    "5. **Missing Data Handling**: Series can handle missing data using `NaN` (Not a Number).\n",
    "6. **Data Type Inference**: Series automatically infers the data type of the elements.\n",
    "7. **Mathematical Operations**: Series supports element-wise mathematical operations.\n",
    "\n",
    "## Examples\n",
    "\n",
    "### 1. Creating a Series"
   ]
  },
  {
   "cell_type": "code",
   "execution_count": null,
   "metadata": {},
   "outputs": [],
   "source": [
    "import pandas as pd\n",
    "\n",
    "# From a list\n",
    "data = [1, 2, 3, 4, 5]\n",
    "series1 = pd.Series(data)\n",
    "print(series1)\n",
    "\n",
    "# From a dictionary\n",
    "data = {'a': 1, 'b': 2, 'c': 3}\n",
    "series2 = pd.Series(data)\n",
    "print(series2)\n",
    "\n",
    "# From a scalar value\n",
    "series3 = pd.Series(10, index=['a', 'b', 'c'])\n",
    "print(series3)"
   ]
  },
  {
   "cell_type": "markdown",
   "metadata": {},
   "source": [
    "### 2. Indexing and Slicing"
   ]
  },
  {
   "cell_type": "code",
   "execution_count": null,
   "metadata": {},
   "outputs": [],
   "source": [
    "# Integer-based indexing\n",
    "print(series1[0])\n",
    "\n",
    "# Label-based indexing\n",
    "print(series2['a'])\n",
    "\n",
    "# Slicing\n",
    "print(series1[1:4]) "
   ]
  },
  {
   "cell_type": "markdown",
   "metadata": {},
   "source": [
    "### 3. Data Alignment"
   ]
  },
  {
   "cell_type": "code",
   "execution_count": null,
   "metadata": {},
   "outputs": [],
   "source": [
    "series4 = pd.Series([1, 2, 3], index=['a', 'b', 'c'])\n",
    "series5 = pd.Series([4, 5, 6], index=['b', 'c', 'd'])\n",
    "result = series4 + series5\n",
    "print(result)\n"
   ]
  },
  {
   "cell_type": "markdown",
   "metadata": {},
   "source": [
    "### 4. Vectorized Operations"
   ]
  },
  {
   "cell_type": "code",
   "execution_count": null,
   "metadata": {},
   "outputs": [],
   "source": [
    "series6 = pd.Series([1, 2, 3, 4])\n",
    "print(series6 * 2)  "
   ]
  },
  {
   "cell_type": "markdown",
   "metadata": {},
   "source": [
    "### 5. Handling Missing Data"
   ]
  },
  {
   "cell_type": "code",
   "execution_count": null,
   "metadata": {},
   "outputs": [],
   "source": [
    "series7 = pd.Series([1, 2, None, 4])\n",
    "print(series7.isna())"
   ]
  },
  {
   "cell_type": "markdown",
   "metadata": {},
   "source": [
    "### 6. Data Type Inference"
   ]
  },
  {
   "cell_type": "code",
   "execution_count": null,
   "metadata": {},
   "outputs": [],
   "source": [
    "series8 = pd.Series([1, 2, 3.5, 'a'])\n",
    "print(series8.dtype)"
   ]
  },
  {
   "cell_type": "markdown",
   "metadata": {},
   "source": [
    "### 7. Mathematical Operations"
   ]
  },
  {
   "cell_type": "code",
   "execution_count": null,
   "metadata": {},
   "outputs": [],
   "source": [
    "series9 = pd.Series([1, 2, 3, 4])\n",
    "print(series9 + 5)"
   ]
  },
  {
   "cell_type": "markdown",
   "metadata": {},
   "source": [
    "These examples demonstrate the versatility and power of Pandas Series in handling and manipulating one-dimensional data."
   ]
  }
 ],
 "metadata": {
  "kernelspec": {
   "display_name": "base",
   "language": "python",
   "name": "python3"
  },
  "language_info": {
   "codemirror_mode": {
    "name": "ipython",
    "version": 3
   },
   "file_extension": ".py",
   "mimetype": "text/x-python",
   "name": "python",
   "nbconvert_exporter": "python",
   "pygments_lexer": "ipython3",
   "version": "3.12.7"
  }
 },
 "nbformat": 4,
 "nbformat_minor": 2
}
