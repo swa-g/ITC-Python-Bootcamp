{
 "cells": [
  {
   "cell_type": "markdown",
   "metadata": {},
   "source": [
    "# Tutorial on Using Python to Execute SQL Queries\n",
    "\n",
    "In this tutorial, we will learn how to use Python to execute SQL queries. We will use the `sqlite3` module, which is part of the Python Standard Library, to interact with an SQLite database. SQLite is a lightweight, disk-based database that doesn’t require a separate server process.\n",
    "\n",
    "## Steps to Execute SQL Queries in Python\n",
    "\n",
    "1. **Import the sqlite3 module**: This module provides a SQL interface compliant with the DB-API 2.0 specification described by PEP 249.\n",
    "\n",
    "2. **Create a connection to the database**: Use the `sqlite3.connect()` function to create a connection object that represents the database.\n",
    "\n",
    "3. **Create a cursor object**: The cursor object is used to execute SQL commands and fetch data from the database.\n",
    "\n",
    "4. **Execute SQL queries**: Use the cursor object to execute SQL queries using the `execute()` method.\n",
    "\n",
    "5. **Commit the transaction**: If you modify the database (e.g., INSERT, UPDATE, DELETE), you need to commit the transaction using the `commit()` method.\n",
    "\n",
    "6. **Fetch the results**: If you execute a SELECT query, you can fetch the results using methods like `fetchone()`, `fetchall()`, or `fetchmany()`.\n",
    "\n",
    "7. **Close the connection**: After completing your operations, close the connection using the `close()` method.\n",
    "\n",
    "## Example\n",
    "\n",
    "Below is an example of how to use Python to execute SQL queries:"
   ]
  },
  {
   "cell_type": "code",
   "execution_count": null,
   "metadata": {},
   "outputs": [],
   "source": [
    "import sqlite3\n",
    "\n",
    "# Step 2: Create a connection to the database\n",
    "conn = sqlite3.connect('example.db')\n",
    "\n",
    "# Step 3: Create a cursor object\n",
    "cursor = conn.cursor()\n",
    "\n",
    "# Step 4: Execute SQL queries\n",
    "# Create a table\n",
    "cursor.execute('''CREATE TABLE IF NOT EXISTS users (id INTEGER PRIMARY KEY, name TEXT, age INTEGER)''')\n",
    "\n",
    "# Insert data into the table\n",
    "cursor.execute(\"INSERT INTO users (name, age) VALUES ('Alice', 25)\")\n",
    "cursor.execute(\"INSERT INTO users (name, age) VALUES ('Bob', 30)\")\n",
    "\n",
    "# Commit the transaction\n",
    "conn.commit()\n",
    "\n",
    "# Fetch data from the table\n",
    "cursor.execute(\"SELECT * FROM users\")\n",
    "rows = cursor.fetchall()\n",
    "for row in rows:\n",
    "    print(row)\n",
    "\n",
    "# Step 7: Close the connection\n",
    "conn.close()"
   ]
  },
  {
   "cell_type": "markdown",
   "metadata": {},
   "source": [
    "### SOME MORE ADVANCED QUERIES"
   ]
  },
  {
   "cell_type": "code",
   "execution_count": null,
   "metadata": {},
   "outputs": [],
   "source": [
    "\n",
    "conn = sqlite3.connect('example.db')\n",
    "cursor = conn.cursor()\n",
    "\n",
    "# Insert more data into the table\n",
    "cursor.execute(\"INSERT INTO users (name, age) VALUES ('Charlie', 35)\")\n",
    "cursor.execute(\"INSERT INTO users (name, age) VALUES ('David', 40)\")\n",
    "cursor.execute(\"INSERT INTO users (name, age) VALUES ('Eve', 45)\")\n",
    "\n",
    "# Commit the transaction\n",
    "conn.commit()\n",
    "\n",
    "# Advanced SQL Queries\n",
    "\n",
    "# 1. Select users with age greater than 30\n",
    "cursor.execute(\"SELECT * FROM users WHERE age > 30\")\n",
    "rows = cursor.fetchall()\n",
    "print(\"Users with age greater than 30:\")\n",
    "for row in rows:\n",
    "    print(row)\n",
    "\n",
    "# 2. Count the number of users\n",
    "cursor.execute(\"SELECT COUNT(*) FROM users\")\n",
    "count = cursor.fetchone()[0]\n",
    "print(f\"Total number of users: {count}\")\n",
    "\n",
    "# 3. Find the average age of users\n",
    "cursor.execute(\"SELECT AVG(age) FROM users\")\n",
    "average_age = cursor.fetchone()[0]\n",
    "print(f\"Average age of users: {average_age}\")\n",
    "\n",
    "# 4. Group users by age and count the number of users in each age group\n",
    "cursor.execute(\"SELECT age, COUNT(*) FROM users GROUP BY age\")\n",
    "age_groups = cursor.fetchall()\n",
    "print(\"Number of users in each age group:\")\n",
    "for group in age_groups:\n",
    "    print(group)\n",
    "\n",
    "conn.close()"
   ]
  },
  {
   "cell_type": "code",
   "execution_count": null,
   "metadata": {},
   "outputs": [],
   "source": []
  },
  {
   "cell_type": "markdown",
   "metadata": {},
   "source": [
    "This example demonstrates how to create a table, insert data, and fetch data from an SQLite database using Python. You can adapt this example to work with other databases by using the appropriate database connector module (e.g., `psycopg2` for PostgreSQL, `mysql-connector-python` for MySQL)."
   ]
  },
  {
   "cell_type": "markdown",
   "metadata": {},
   "source": []
  }
 ],
 "metadata": {
  "kernelspec": {
   "display_name": "base",
   "language": "python",
   "name": "python3"
  },
  "language_info": {
   "codemirror_mode": {
    "name": "ipython",
    "version": 3
   },
   "file_extension": ".py",
   "mimetype": "text/x-python",
   "name": "python",
   "nbconvert_exporter": "python",
   "pygments_lexer": "ipython3",
   "version": "3.12.7"
  }
 },
 "nbformat": 4,
 "nbformat_minor": 2
}
