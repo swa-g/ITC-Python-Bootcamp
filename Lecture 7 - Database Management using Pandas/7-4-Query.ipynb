{
 "cells": [
  {
   "cell_type": "markdown",
   "metadata": {},
   "source": [
    "# Tutorial on Using Python to Execute SQL Queries\n",
    "\n",
    "In this tutorial, we will learn how to use Python to execute SQL queries. We will use the `sqlite3` module, which is part of the Python Standard Library, to interact with an SQLite database. SQLite is a lightweight, disk-based database that doesn’t require a separate server process.\n",
    "\n",
    "## Steps to Execute SQL Queries in Python\n",
    "\n",
    "1. **Import the sqlite3 module**: This module provides a SQL interface compliant with the DB-API 2.0 specification described by PEP 249.\n",
    "\n",
    "2. **Create a connection to the database**: Use the `sqlite3.connect()` function to create a connection object that represents the database.\n",
    "\n",
    "3. **Create a cursor object**: The cursor object is used to execute SQL commands and fetch data from the database.\n",
    "\n",
    "4. **Execute SQL queries**: Use the cursor object to execute SQL queries using the `execute()` method.\n",
    "\n",
    "5. **Commit the transaction**: If you modify the database (e.g., INSERT, UPDATE, DELETE), you need to commit the transaction using the `commit()` method.\n",
    "\n",
    "6. **Fetch the results**: If you execute a SELECT query, you can fetch the results using methods like `fetchone()`, `fetchall()`, or `fetchmany()`.\n",
    "\n",
    "7. **Close the connection**: After completing your operations, close the connection using the `close()` method.\n",
    "\n",
    "## Example\n",
    "\n",
    "Below is an example of how to use Python to execute SQL queries:\n",
    "\n",
    "```python\n",
    "import sqlite3\n",
    "\n",
    "# Step 2: Create a connection to the database\n",
    "conn = sqlite3.connect('example.db')\n",
    "\n",
    "# Step 3: Create a cursor object\n",
    "cursor = conn.cursor()\n",
    "\n",
    "# Step 4: Execute SQL queries\n",
    "# Create a table\n",
    "cursor.execute('''CREATE TABLE IF NOT EXISTS users (id INTEGER PRIMARY KEY, name TEXT, age INTEGER)''')\n",
    "\n",
    "# Insert data into the table\n",
    "cursor.execute(\"INSERT INTO users (name, age) VALUES ('Alice', 25)\")\n",
    "cursor.execute(\"INSERT INTO users (name, age) VALUES ('Bob', 30)\")\n",
    "\n",
    "# Commit the transaction\n",
    "conn.commit()\n",
    "\n",
    "# Fetch data from the table\n",
    "cursor.execute(\"SELECT * FROM users\")\n",
    "rows = cursor.fetchall()\n",
    "for row in rows:\n",
    "    print(row)\n",
    "\n",
    "# Step 7: Close the connection\n",
    "conn.close()\n",
    "```\n",
    "\n",
    "This example demonstrates how to create a table, insert data, and fetch data from an SQLite database using Python. You can adapt this example to work with other databases by using the appropriate database connector module (e.g., `psycopg2` for PostgreSQL, `mysql-connector-python` for MySQL)."
   ]
  },
  {
   "cell_type": "markdown",
   "metadata": {},
   "source": []
  }
 ],
 "metadata": {
  "language_info": {
   "name": "python"
  }
 },
 "nbformat": 4,
 "nbformat_minor": 2
}
