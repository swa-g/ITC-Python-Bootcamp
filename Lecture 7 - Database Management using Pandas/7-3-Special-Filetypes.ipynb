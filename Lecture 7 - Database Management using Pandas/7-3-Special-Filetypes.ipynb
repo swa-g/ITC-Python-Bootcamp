{
 "cells": [
  {
   "cell_type": "markdown",
   "metadata": {},
   "source": [
    "### Examples of Using Pandas with Different File Types\n",
    "\n",
    "#### Summary Table\n",
    "| File Type | Description | Reading | Writing |\n",
    "|-----------|-------------|---------|---------|\n",
    "| CSV       | Comma-Separated Values | `pd.read_csv('file.csv')` | `df.to_csv('file.csv', index=False)` |\n",
    "| XML       | eXtensible Markup Language | `pd.read_xml('file.xml')` | `df.to_xml('file.xml')` |\n",
    "| JSON      | JavaScript Object Notation | `pd.read_json('file.json')` | `df.to_json('file.json')` |\n",
    "| XLSX      | Microsoft Excel Open XML Spreadsheet | `pd.read_excel('file.xlsx')` | `df.to_excel('file.xlsx', index=False)` |\n",
    "| HTML      | HyperText Markup Language | `pd.read_html('file.html')[0]` | `df.to_html('file.html', index=False)` |\n",
    "| SQL       | Structured Query Language | `pd.read_sql('SELECT * FROM table_name', engine)` | `df.to_sql('table_name', engine, index=False)` |\n",
    "\n",
    "\n",
    "#### CSV (Comma-Separated Values)\n",
    "CSV files are plain text files that contain data separated by commas. They are commonly used for data exchange between applications.\n",
    "\n",
    "- **Reading CSV:**"
   ]
  },
  {
   "cell_type": "code",
   "execution_count": 2,
   "metadata": {},
   "outputs": [
    {
     "name": "stdout",
     "output_type": "stream",
     "text": [
      "   ID     Name  Age  Salary\n",
      "0   1    Alice   25   50000\n",
      "1   2      Bob   30   60000\n",
      "2   3  Charlie   35   70000\n",
      "3   4    David   40   80000\n",
      "4   5     Emma   45   90000\n"
     ]
    }
   ],
   "source": [
    "import pandas as pd\n",
    "df = pd.read_csv('file.csv')\n",
    "print(df.head())"
   ]
  },
  {
   "cell_type": "markdown",
   "metadata": {},
   "source": [
    "- **Writing CSV:**"
   ]
  },
  {
   "cell_type": "code",
   "execution_count": null,
   "metadata": {},
   "outputs": [],
   "source": [
    "df.to_csv('file.csv', index=False)"
   ]
  },
  {
   "cell_type": "markdown",
   "metadata": {},
   "source": [
    "#### XML (eXtensible Markup Language)\n",
    "XML files are used to store and transport data. They are both human-readable and machine-readable.\n",
    "- **Reading XML:**"
   ]
  },
  {
   "cell_type": "code",
   "execution_count": 3,
   "metadata": {},
   "outputs": [
    {
     "name": "stdout",
     "output_type": "stream",
     "text": [
      "   ID     Name  Age  Salary\n",
      "0   1    Alice   25   50000\n",
      "1   2      Bob   30   60000\n",
      "2   3  Charlie   35   70000\n",
      "3   4    David   40   80000\n",
      "4   5     Emma   45   90000\n"
     ]
    }
   ],
   "source": [
    "import pandas as pd\n",
    "df = pd.read_xml('file.xml')\n",
    "print(df.head())"
   ]
  },
  {
   "cell_type": "markdown",
   "metadata": {},
   "source": [
    "- **Writing XML:**"
   ]
  },
  {
   "cell_type": "code",
   "execution_count": null,
   "metadata": {},
   "outputs": [],
   "source": [
    "df.to_xml('file.xml')"
   ]
  },
  {
   "cell_type": "markdown",
   "metadata": {},
   "source": [
    "#### JSON (JavaScript Object Notation)\n",
    "JSON files are used to store and exchange data. They are lightweight and easy to read and write.\n",
    "\n",
    "- **Reading JSON:**"
   ]
  },
  {
   "cell_type": "code",
   "execution_count": 4,
   "metadata": {},
   "outputs": [
    {
     "name": "stdout",
     "output_type": "stream",
     "text": [
      "   ID     Name  Age  Salary\n",
      "0   1    Alice   25   50000\n",
      "1   2      Bob   30   60000\n",
      "2   3  Charlie   35   70000\n",
      "3   4    David   40   80000\n",
      "4   5     Emma   45   90000\n"
     ]
    }
   ],
   "source": [
    "import pandas as pd\n",
    "df = pd.read_json('file.json')\n",
    "print(df.head())"
   ]
  },
  {
   "cell_type": "markdown",
   "metadata": {},
   "source": [
    "- **Writing JSON:**"
   ]
  },
  {
   "cell_type": "code",
   "execution_count": null,
   "metadata": {},
   "outputs": [],
   "source": [
    "df.to_json('file.json')"
   ]
  },
  {
   "cell_type": "markdown",
   "metadata": {},
   "source": [
    "\n",
    "#### XLSX (Microsoft Excel Open XML Spreadsheet)\n",
    "XLSX files are used to store spreadsheet data. They are widely used in business and data analysis.\n",
    "\n",
    "- **Reading XLSX:**"
   ]
  },
  {
   "cell_type": "code",
   "execution_count": 5,
   "metadata": {},
   "outputs": [
    {
     "name": "stdout",
     "output_type": "stream",
     "text": [
      "   ID     Name  Age  Salary\n",
      "0   1    Alice   25   50000\n",
      "1   2      Bob   30   60000\n",
      "2   3  Charlie   35   70000\n",
      "3   4    David   40   80000\n",
      "4   5     Emma   45   90000\n"
     ]
    }
   ],
   "source": [
    "import pandas as pd\n",
    "df = pd.read_excel('file.xlsx')\n",
    "print(df.head())"
   ]
  },
  {
   "cell_type": "markdown",
   "metadata": {},
   "source": [
    "- **Writing XLSX:**"
   ]
  },
  {
   "cell_type": "code",
   "execution_count": null,
   "metadata": {},
   "outputs": [],
   "source": [
    "df.to_excel('file.xlsx', index=False)"
   ]
  },
  {
   "cell_type": "markdown",
   "metadata": {},
   "source": [
    "#### HTML (HyperText Markup Language)\n",
    "HTML files are used to display data in web browsers. They can also be used to store tabular data.\n",
    "\n",
    "- **Reading HTML:**"
   ]
  },
  {
   "cell_type": "code",
   "execution_count": 6,
   "metadata": {},
   "outputs": [
    {
     "name": "stdout",
     "output_type": "stream",
     "text": [
      "   ID     Name  Age  Salary ($)\n",
      "0   1    Alice   25       50000\n",
      "1   2      Bob   30       60000\n",
      "2   3  Charlie   35       70000\n",
      "3   4    David   40       80000\n",
      "4   5     Emma   45       90000\n"
     ]
    }
   ],
   "source": [
    "import pandas as pd\n",
    "df = pd.read_html('file.html')[0]\n",
    "print(df.head())"
   ]
  },
  {
   "cell_type": "markdown",
   "metadata": {},
   "source": [
    "- **Writing HTML:**"
   ]
  },
  {
   "cell_type": "code",
   "execution_count": null,
   "metadata": {},
   "outputs": [],
   "source": [
    "df.to_html('file.html', index=False)"
   ]
  },
  {
   "cell_type": "markdown",
   "metadata": {},
   "source": [
    "#### SQL (Structured Query Language)\n",
    "SQL databases are used to store and manage data in a relational database.\n",
    "\n",
    "- **Reading SQL:**\n",
    "    ```python\n",
    "    import pandas as pd\n",
    "    from sqlalchemy import create_engine\n",
    "    engine = create_engine('sqlite:///database.db')\n",
    "    df = pd.read_sql('SELECT * FROM table_name', engine)\n",
    "    ```\n",
    "\n",
    "- **Writing SQL:**\n",
    "    ```python\n",
    "    df.to_sql('table_name', engine, index=False)\n",
    "    ```"
   ]
  },
  {
   "cell_type": "markdown",
   "metadata": {},
   "source": []
  }
 ],
 "metadata": {
  "kernelspec": {
   "display_name": "base",
   "language": "python",
   "name": "python3"
  },
  "language_info": {
   "codemirror_mode": {
    "name": "ipython",
    "version": 3
   },
   "file_extension": ".py",
   "mimetype": "text/x-python",
   "name": "python",
   "nbconvert_exporter": "python",
   "pygments_lexer": "ipython3",
   "version": "3.12.7"
  }
 },
 "nbformat": 4,
 "nbformat_minor": 2
}
