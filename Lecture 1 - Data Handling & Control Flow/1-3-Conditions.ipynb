{
 "cells": [
  {
   "cell_type": "markdown",
   "metadata": {},
   "source": [
    "## CONTROL FLOW - CONDITIONS"
   ]
  },
  {
   "cell_type": "markdown",
   "metadata": {},
   "source": [
    "# Basic if condition\n",
    "```python   \n",
    "if CONDITION:\n",
    "    STATEMENTS IF CONDITION IS TRUE\n",
    "```"
   ]
  },
  {
   "cell_type": "code",
   "execution_count": null,
   "metadata": {},
   "outputs": [],
   "source": [
    "# Basic if condition\n",
    "x = 10\n",
    "if x > 5:\n",
    "    print(\"x is greater than 5\")"
   ]
  },
  {
   "cell_type": "markdown",
   "metadata": {},
   "source": [
    "# If-else condition\n",
    "```python\n",
    "if FIRST CONDITION:\n",
    "    FIRST STATEMENT\n",
    "else:\n",
    "    OTHER STATEMENT\n",
    "```"
   ]
  },
  {
   "cell_type": "code",
   "execution_count": null,
   "metadata": {},
   "outputs": [],
   "source": [
    "# If-else condition\n",
    "y = 3\n",
    "if y > 5:\n",
    "    print(\"y is greater than 5\")\n",
    "else:\n",
    "    print(\"y is not greater than 5\")"
   ]
  },
  {
   "cell_type": "markdown",
   "metadata": {},
   "source": [
    "# Elif condition\n",
    "```python\n",
    "if FIRST CONDITION:\n",
    "    FIRST STATEMENT\n",
    "elif SECOND CONDITION:\n",
    "    SECOND STATEMENT\n",
    "elif THIRD CONDITION:\n",
    "    THIRD STATEMENT\n",
    "else:\n",
    "    OTHER STATEMENT\n",
    "```"
   ]
  },
  {
   "cell_type": "code",
   "execution_count": null,
   "metadata": {},
   "outputs": [],
   "source": [
    "# Elif condition\n",
    "z = 7\n",
    "if z > 10:\n",
    "    print(\"z is greater than 10\")\n",
    "elif z > 5:\n",
    "    print(\"z is greater than 5 but less than or equal to 10\")\n",
    "else:\n",
    "    print(\"z is 5 or less\")\n"
   ]
  },
  {
   "cell_type": "markdown",
   "metadata": {},
   "source": [
    "\n",
    "# Shorthand if\n",
    "```python\n",
    "if condition: do something\n",
    "```\n",
    "# Shorthand if-else\n",
    "```python\n",
    "STATEMENT if CONDITION else OTHER STATEMENT\n",
    "```"
   ]
  },
  {
   "cell_type": "code",
   "execution_count": null,
   "metadata": {},
   "outputs": [],
   "source": [
    "# Shorthand if\n",
    "a = 15\n",
    "if a > 10: print(\"a is greater than 10\")\n",
    "\n",
    "# Shorthand if-else\n",
    "b = 2\n",
    "print(\"b is greater than 5\") if b > 5 else print(\"b is not greater than 5\")"
   ]
  },
  {
   "cell_type": "markdown",
   "metadata": {},
   "source": [
    "# Compound conditions with \"and\" & \"or\"\n",
    "```python\n",
    "if CONDITION 1 and CONDITION 2:\n",
    "    DO SOMETHING\n",
    "```\n",
    "```python\n",
    "if CONDITION 1 or CONDITION 2:\n",
    "    DO SOMETHING\n",
    "```"
   ]
  },
  {
   "cell_type": "code",
   "execution_count": null,
   "metadata": {},
   "outputs": [],
   "source": [
    "# Compound conditions with and\n",
    "c = 8\n",
    "if c > 5 and c < 10:\n",
    "    print(\"c is between 5 and 10\")\n",
    "\n",
    "# Compound conditions with or\n",
    "d = 12\n",
    "if d < 5 or d > 10:\n",
    "    print(\"d is either less than 5 or greater than 10\")"
   ]
  },
  {
   "cell_type": "markdown",
   "metadata": {},
   "source": [
    "# Nested if \n",
    "```python\n",
    "if OUTERCONDITION:\n",
    "    if INNERCONDITION:\n",
    "        STATEMENT IF BOTH CONDITIONS ARE MET\n",
    "    else:\n",
    "        STATEMENT INNER CONDITION IS FALSE\n",
    "else:\n",
    "    STATEMENT WHEN OUTER CONDITION IS FALSE\n",
    "```"
   ]
  },
  {
   "cell_type": "code",
   "execution_count": null,
   "metadata": {},
   "outputs": [],
   "source": [
    "x=10\n",
    "if x > 5:\n",
    "    if x < 15:\n",
    "        print(\"x is between 5 and 15\")\n",
    "    else:\n",
    "        print(\"x is greater than or equal to 15\")\n",
    "else:\n",
    "    print(\"x is 5 or less\")"
   ]
  }
 ],
 "metadata": {
  "kernelspec": {
   "display_name": "base",
   "language": "python",
   "name": "python3"
  },
  "language_info": {
   "codemirror_mode": {
    "name": "ipython",
    "version": 3
   },
   "file_extension": ".py",
   "mimetype": "text/x-python",
   "name": "python",
   "nbconvert_exporter": "python",
   "pygments_lexer": "ipython3",
   "version": "3.12.7"
  }
 },
 "nbformat": 4,
 "nbformat_minor": 2
}
