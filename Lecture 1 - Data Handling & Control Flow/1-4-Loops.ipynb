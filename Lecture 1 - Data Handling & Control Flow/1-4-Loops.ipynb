{
 "cells": [
  {
   "cell_type": "markdown",
   "metadata": {},
   "source": [
    "# Loops in Python\n",
    "\n",
    "Loops are used in Python to execute a block of code repeatedly. \n",
    "\n",
    "Loops are fundamental in programming as they allow you to automate repetitive tasks efficiently.\n",
    "\n",
    "Python provides two types of loops:\n",
    "\n",
    "1. **For Loop**\n",
    "2. **While Loop**\n",
    "\n",
    "## For Loop\n",
    "\n",
    "The `for` loop in Python is used to iterate over a sequence (such as a list, tuple, dictionary, set, or string) with the loop variable taking on the value of each element in the sequence.\n",
    "\n",
    "### Example:\n",
    "\n",
    "```python\n",
    "for VARIABLE in ITERATOR:\n",
    "    STATEMENT\n",
    "```"
   ]
  },
  {
   "cell_type": "code",
   "execution_count": null,
   "metadata": {},
   "outputs": [],
   "source": [
    "# Nested loop example 1: Pattern printing\n",
    "rows = 5\n",
    "for i in range(1, rows + 1):\n",
    "    for j in range(1, i + 1):\n",
    "        print(\"*\", end=\" \")\n",
    "    print(\"\")\n",
    "\n",
    "# Nested loop example 2: Multiplication table\n",
    "num = 5\n",
    "for i in range(1, num + 1):\n",
    "    for j in range(1, 11):\n",
    "        print(f\"{i} x {j} = {i * j}\")\n",
    "    print(\"\")"
   ]
  },
  {
   "cell_type": "markdown",
   "metadata": {},
   "source": [
    "## While Loop\n",
    "\n",
    "The `while` loop in Python is used to execute a block of code as long as the condition is true.\n",
    "\n",
    "### Example:\n",
    "\n",
    "```python\n",
    "while CONDITION:\n",
    "    STATEMENT\n",
    "```"
   ]
  },
  {
   "cell_type": "code",
   "execution_count": null,
   "metadata": {},
   "outputs": [],
   "source": [
    "# While loop example: Counting down from 5 to 1\n",
    "count = 5\n",
    "while count > 0:\n",
    "    print(count)\n",
    "    count -= 1"
   ]
  }
 ],
 "metadata": {
  "kernelspec": {
   "display_name": "Python 3",
   "language": "python",
   "name": "python3"
  },
  "language_info": {
   "codemirror_mode": {
    "name": "ipython",
    "version": 3
   },
   "file_extension": ".py",
   "mimetype": "text/x-python",
   "name": "python",
   "nbconvert_exporter": "python",
   "pygments_lexer": "ipython3",
   "version": "3.11.0"
  }
 },
 "nbformat": 4,
 "nbformat_minor": 2
}
