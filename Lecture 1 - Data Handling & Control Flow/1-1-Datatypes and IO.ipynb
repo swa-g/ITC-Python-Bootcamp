{
 "cells": [
  {
   "cell_type": "markdown",
   "metadata": {},
   "source": [
    "# DATATYPES & I/O"
   ]
  },
  {
   "cell_type": "markdown",
   "metadata": {},
   "source": [
    "## BASIC INPUT & OUTPUT\n",
    "\n",
    "1. The **Print** Function : Shows a output string through the console\n",
    "\n",
    "        print(\"Output String\")\n",
    "\n",
    "1. The **Input** Function : Takes an input from the user through the console\n",
    "\n",
    "        variable = input(\"Message\")"
   ]
  },
  {
   "cell_type": "code",
   "execution_count": null,
   "metadata": {},
   "outputs": [],
   "source": [
    "# Basic String Output\n",
    "print(\"Hello\")"
   ]
  },
  {
   "cell_type": "code",
   "execution_count": null,
   "metadata": {},
   "outputs": [],
   "source": [
    "# Printing variables\n",
    "name = input(\"Enter your name\")\n",
    "print(\"Nice to meet you\", name)"
   ]
  },
  {
   "cell_type": "code",
   "execution_count": null,
   "metadata": {},
   "outputs": [],
   "source": [
    "# Formatted String Output\n",
    "age = input(\"Enter your age\")\n",
    "print(f\"You are {age} years old\")"
   ]
  },
  {
   "cell_type": "markdown",
   "metadata": {},
   "source": [
    "## Datatypes"
   ]
  },
  {
   "cell_type": "markdown",
   "metadata": {},
   "source": [
    "## Python Data Types\n",
    "\n",
    "1. **Numeric Types**:\n",
    "    - **int**: Integer values, e.g., `age = 3`\n",
    "    - **float**: Floating-point numbers, e.g., `pi = 3.141592653589793`\n",
    "    - **complex**: Complex numbers, e.g., `complex = 3 + 4j`\n",
    "\n",
    "2. **Sequence Types**:\n",
    "    - **str**: String values, e.g., `name = \"John\"`\n",
    "    - **list**: Ordered collection of items, e.g., `fruits = [\"apple\", \"banana\", \"cherry\"]`\n",
    "    - **tuple**: Ordered, immutable collection of items, e.g., `coordinates = (10.0, 20.0)`\n",
    "\n",
    "3. **Mapping Type**:\n",
    "    - **dict**: Collection of key-value pairs, e.g., `student = {\"name\": \"Alice\", \"age\": 25}`\n",
    "\n",
    "4. **Set Types**:\n",
    "    - **set**: Unordered collection of unique items, e.g., `unique_numbers = {1, 2, 3}`\n",
    "    - **frozenset**: Immutable version of a set, e.g., `frozen_numbers = frozenset([1, 2, 3])`\n",
    "\n",
    "5. **Boolean Type**:\n",
    "    - **bool**: Boolean values, representing `True` or `False`, e.g., `passed = True`\n",
    "\n",
    "6. **Binary Types**:\n",
    "    - **bytes**: Immutable sequence of bytes, e.g., `data = b\"hello\"`\n",
    "    - **bytearray**: Mutable sequence of bytes, e.g., `mutable_data = bytearray(b\"hello\")`\n",
    "    - **memoryview**: Memory view object, e.g., `mem_view = memoryview(b\"hello\")`\n",
    "\n",
    "7. **None Type**:\n",
    "    - **NoneType**: Represents the absence of a value, e.g., `value = None`\n",
    "\n",
    "Each of these data types serves a specific purpose and can be used to handle different kinds of data in Python programs."
   ]
  },
  {
   "cell_type": "code",
   "execution_count": null,
   "metadata": {},
   "outputs": [],
   "source": [
    "age = 3\n",
    "mobile = 9876543210\n",
    "marks = 90.5\n",
    "pi = 3.141592653589793238\n",
    "name = \"John\"\n",
    "grade = 'A'\n",
    "passed = True\n",
    "complex = 3 + 4j\n",
    "\n",
    "print(type(age), type(mobile), type(marks), type(name), type(grade), type(passed), type(complex), type(pi))"
   ]
  },
  {
   "cell_type": "code",
   "execution_count": 8,
   "metadata": {},
   "outputs": [],
   "source": [
    "salary = input(\"Enter your salary\")\n",
    "food = input(\"How much did you spend for food ?\")\n",
    "rent = input(\"How much did you spend on rent ?\") \n",
    "savings = salary - (food + rent)                        # THIS IS INCORRECT\n",
    "print(\"Hello you have saved {savings} this month.s\")"
   ]
  }
 ],
 "metadata": {
  "kernelspec": {
   "display_name": "base",
   "language": "python",
   "name": "python3"
  },
  "language_info": {
   "codemirror_mode": {
    "name": "ipython",
    "version": 3
   },
   "file_extension": ".py",
   "mimetype": "text/x-python",
   "name": "python",
   "nbconvert_exporter": "python",
   "pygments_lexer": "ipython3",
   "version": "3.12.7"
  }
 },
 "nbformat": 4,
 "nbformat_minor": 2
}
