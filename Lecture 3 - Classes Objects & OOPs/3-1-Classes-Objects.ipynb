{
 "cells": [
  {
   "cell_type": "markdown",
   "metadata": {},
   "source": [
    "# Classes and Objects Fundamentals in Python\n",
    "\n",
    "## Introduction\n",
    "In Python, classes and objects are fundamental concepts of object-oriented programming (OOP). A class is a blueprint for creating objects, and an object is an instance of a class.\n",
    "\n",
    "## Defining a Class\n",
    "A class is defined using the `class` keyword followed by the class name and a colon. The class body contains methods (functions) and attributes (variables).\n",
    "\n",
    "```python\n",
    "class MyClass:\n",
    "    # Class attribute\n",
    "    class_attribute = \"I am a class attribute\"\n",
    "\n",
    "    # Constructor\n",
    "    def __init__(self, instance_attribute):\n",
    "        # Instance attribute\n",
    "        self.instance_attribute = instance_attribute\n",
    "\n",
    "    # Method\n",
    "    def my_method(self):\n",
    "        return f\"Instance attribute: {self.instance_attribute}\"\n",
    "```"
   ]
  },
  {
   "cell_type": "code",
   "execution_count": null,
   "metadata": {},
   "outputs": [],
   "source": [
    "class Dog:\n",
    "    # Class attribute\n",
    "    species = \"Canis familiaris\"\n",
    "\n",
    "    # Constructor\n",
    "    def __init__(self, name, age):\n",
    "        self.name = name\n",
    "        self.age = age\n",
    "\n",
    "    # Method\n",
    "    def description(self):\n",
    "        return f\"{self.name} is {self.age} years old\"\n",
    "\n",
    "    # Method\n",
    "    def speak(self, sound):\n",
    "        return f\"{self.name} says {sound}\""
   ]
  },
  {
   "cell_type": "markdown",
   "metadata": {},
   "source": [
    "## Creating an Object\n",
    "An object is created by calling the class name followed by parentheses. This invokes the class constructor (`__init__` method).\n",
    "\n",
    "```python\n",
    "# Creating an object of MyClass\n",
    "my_object = MyClass(\"I am an instance attribute\")\n",
    "```"
   ]
  },
  {
   "cell_type": "code",
   "execution_count": null,
   "metadata": {},
   "outputs": [],
   "source": [
    "# Creating objects\n",
    "dog1 = Dog(\"Buddy\", 3)\n",
    "dog2 = Dog(\"Lucy\", 5)"
   ]
  },
  {
   "cell_type": "markdown",
   "metadata": {},
   "source": [
    "## Accessing Attributes and Methods\n",
    "Attributes and methods of an object are accessed using the dot (`.`) notation.\n",
    "\n",
    "```python\n",
    "# Accessing class attribute\n",
    "print(MyClass.class_attribute)\n",
    "\n",
    "# Accessing instance attribute\n",
    "print(my_object.instance_attribute)\n",
    "\n",
    "# Calling a method\n",
    "print(my_object.my_method())\n",
    "```"
   ]
  },
  {
   "cell_type": "code",
   "execution_count": null,
   "metadata": {},
   "outputs": [],
   "source": [
    "# Accessing attributes and methods\n",
    "print(dog1.description())  # Output: Buddy is 3 years old\n",
    "print(dog2.speak(\"Woof Woof\"))  # Output: Lucy says Woof Woof"
   ]
  },
  {
   "cell_type": "markdown",
   "metadata": {},
   "source": [
    "## Summary\n",
    "- A class is a blueprint for creating objects.\n",
    "- An object is an instance of a class.\n",
    "- Attributes and methods define the properties and behaviors of a class.\n",
    "- Use the `class` keyword to define a class.\n",
    "- Use the dot (`.`) notation to access attributes and methods of an object."
   ]
  },
  {
   "cell_type": "markdown",
   "metadata": {},
   "source": [
    "#### TEST QUESTION:\n",
    "\n",
    "Create a class Box, which has 3 attributes, length breadth and volume. Create a function to display the volume. "
   ]
  },
  {
   "cell_type": "markdown",
   "metadata": {},
   "source": []
  }
 ],
 "metadata": {
  "language_info": {
   "name": "python"
  }
 },
 "nbformat": 4,
 "nbformat_minor": 2
}
