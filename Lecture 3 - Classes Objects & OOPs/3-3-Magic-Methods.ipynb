{
 "cells": [
  {
   "cell_type": "markdown",
   "metadata": {},
   "source": [
    "# Magic Methods in Python\n",
    "\n",
    "Magic methods in Python are special methods that start and end with double underscores (`__`). They are also known as dunder methods. These methods allow us to define the behavior of objects for built-in operations. Below is a list of some common magic methods and their usage:\n",
    "\n",
    "| Magic Method | Purpose |\n",
    "|--------------|---------|\n",
    "| `__init__`   | Initializes the attributes of the class when an instance is created. |\n",
    "| `__str__`    | Returns a string representation of the object, used by `str()` and `print()`. |\n",
    "| `__repr__`   | Returns an official string representation of the object, used by `repr()`. |\n",
    "| `__len__`    | Returns the length of the object, used by `len()`. |\n",
    "| `__getitem__`| Retrieves an item from the object using indexing syntax. |\n",
    "| `__setitem__`| Sets an item in the object using indexing syntax. |\n",
    "| `__delitem__`| Deletes an item from the object using indexing syntax. |\n",
    "| `__add__`    | Defines the behavior of the addition operator `+`. |\n",
    "| `__sub__`    | Defines the behavior of the subtraction operator `-`. |\n",
    "| `__mul__`    | Defines the behavior of the multiplication operator `*`. | \n",
    "| `__call__`   | Allows an instance of the class to be called as a function. |\n",
    "| `__iter__`   | Returns an iterator object, used to make an object iterable. |\n",
    "| `__next__`   | Returns the next item from the iterator, used to make an object iterable. |"
   ]
  },
  {
   "cell_type": "markdown",
   "metadata": {},
   "source": [
    "## `__init__`\n",
    "The `__init__` method is called when an instance of the class is created. It is used for initializing the attributes of the class."
   ]
  },
  {
   "cell_type": "code",
   "execution_count": null,
   "metadata": {},
   "outputs": [],
   "source": [
    "class Person:\n",
    "    def __init__(self, name, age):\n",
    "        self.name = name\n",
    "        self.age = age\n",
    "\n",
    "p = Person(\"Alice\", 30)\n",
    "print(p.name)  # Output: Alice\n",
    "print(p.age)   # Output: 30"
   ]
  },
  {
   "cell_type": "markdown",
   "metadata": {},
   "source": [
    "## `__str__`\n",
    "The `__str__` method is called by the `str()` function and by the `print` statement to get a string representation of the object.\n"
   ]
  },
  {
   "cell_type": "code",
   "execution_count": null,
   "metadata": {},
   "outputs": [],
   "source": [
    "class Person:\n",
    "    def __init__(self, name, age):\n",
    "        self.name = name\n",
    "        self.age = age\n",
    "\n",
    "    def __str__(self):\n",
    "        return f\"{self.name}, {self.age} years old\"\n",
    "\n",
    "p = Person(\"Alice\", 30)\n",
    "print(p)  # Output: Alice, 30 years old"
   ]
  },
  {
   "cell_type": "markdown",
   "metadata": {},
   "source": [
    "## `__repr__`\n",
    "The `__repr__` method is called by the `repr()` function and is used to get an official string representation of the object."
   ]
  },
  {
   "cell_type": "code",
   "execution_count": 2,
   "metadata": {},
   "outputs": [
    {
     "name": "stdout",
     "output_type": "stream",
     "text": [
      "Person(name=Alice, age=30)\n"
     ]
    }
   ],
   "source": [
    "class Person:\n",
    "    def __init__(self, name, age):\n",
    "        self.name = name\n",
    "        self.age = age\n",
    "\n",
    "    def __repr__(self):\n",
    "        return f\"Person(name={self.name}, age={self.age})\"\n",
    "    \n",
    "p = Person(\"Alice\", 30)\n",
    "print(p)  # Output: Person(name=Alice, age=30)"
   ]
  },
  {
   "cell_type": "markdown",
   "metadata": {},
   "source": [
    "## `__len__`\n",
    "The `__len__` method is called by the `len()` function to get the length of the object."
   ]
  },
  {
   "cell_type": "code",
   "execution_count": null,
   "metadata": {},
   "outputs": [],
   "source": [
    "class MyList:\n",
    "    def __init__(self, items):\n",
    "        self.items = items\n",
    "\n",
    "    def __len__(self):\n",
    "        return len(self.items)\n",
    "\n",
    "my_list = MyList([1, 2, 3, 4])\n",
    "print(len(my_list))  # Output: 4"
   ]
  },
  {
   "cell_type": "markdown",
   "metadata": {},
   "source": [
    "## `__getitem__`\n",
    "The `__getitem__` method is used to get an item from the object using the indexing syntax."
   ]
  },
  {
   "cell_type": "code",
   "execution_count": null,
   "metadata": {},
   "outputs": [],
   "source": [
    "class MyList:\n",
    "    def __init__(self, items):\n",
    "        self.items = items\n",
    "\n",
    "    def __getitem__(self, index):\n",
    "        return self.items[index]\n",
    "\n",
    "my_list = MyList([1, 2, 3, 4])\n",
    "print(my_list[2])  # Output: 3"
   ]
  },
  {
   "cell_type": "markdown",
   "metadata": {},
   "source": [
    "## `__setitem__`\n",
    "The `__setitem__` method is used to set an item in the object using the indexing syntax."
   ]
  },
  {
   "cell_type": "code",
   "execution_count": null,
   "metadata": {},
   "outputs": [],
   "source": [
    "class MyList:\n",
    "    def __init__(self, items):\n",
    "        self.items = items\n",
    "\n",
    "    def __setitem__(self, index, value):\n",
    "        self.items[index] = value\n",
    "\n",
    "my_list = MyList([1, 2, 3, 4])\n",
    "my_list[2] = 10\n",
    "print(my_list.items)  # Output: [1, 2, 10, 4]"
   ]
  },
  {
   "cell_type": "markdown",
   "metadata": {},
   "source": [
    "## `__delitem__`\n",
    "The `__delitem__` method is used to delete an item from the object using the indexing syntax."
   ]
  },
  {
   "cell_type": "code",
   "execution_count": null,
   "metadata": {},
   "outputs": [],
   "source": [
    "class MyList:\n",
    "    def __init__(self, items):\n",
    "        self.items = items\n",
    "\n",
    "    def __delitem__(self, index):\n",
    "        del self.items[index]\n",
    "\n",
    "my_list = MyList([1, 2, 3, 4])\n",
    "del my_list[2]\n",
    "print(my_list.items)  # Output: [1, 2, 4]"
   ]
  },
  {
   "cell_type": "markdown",
   "metadata": {},
   "source": [
    "## `__add__`\n",
    "The `__add__` method is used to define the behavior of the addition operator `+`."
   ]
  },
  {
   "cell_type": "code",
   "execution_count": null,
   "metadata": {},
   "outputs": [],
   "source": [
    "class Vector:\n",
    "    def __init__(self, x, y):\n",
    "        self.x = x\n",
    "        self.y = y\n",
    "\n",
    "    def __add__(self, other):\n",
    "        return Vector(self.x + other.x, self.y + other.y)\n",
    "\n",
    "    def __repr__(self):\n",
    "        return f\"Vector({self.x}, {self.y})\"\n",
    "\n",
    "v1 = Vector(1, 2)\n",
    "v2 = Vector(3, 4)\n",
    "v3 = v1 + v2\n",
    "print(v3)  # Output: Vector(4, 6)"
   ]
  },
  {
   "cell_type": "markdown",
   "metadata": {},
   "source": [
    "## `__call__`\n",
    "The `__call__` method allows an instance of the class to be called as a function."
   ]
  },
  {
   "cell_type": "code",
   "execution_count": null,
   "metadata": {},
   "outputs": [],
   "source": [
    "class Adder:\n",
    "    def __init__(self, value):\n",
    "        self.value = value\n",
    "\n",
    "    def __call__(self, x):\n",
    "        return self.value + x\n",
    "\n",
    "add_five = Adder(5)\n",
    "print(add_five(10))  # Output: 15"
   ]
  },
  {
   "cell_type": "markdown",
   "metadata": {},
   "source": [
    "## `__iter__` and `__next__`\n",
    "The `__iter__` and `__next__` methods are used to make an object iterable."
   ]
  },
  {
   "cell_type": "code",
   "execution_count": null,
   "metadata": {},
   "outputs": [],
   "source": [
    "class MyRange:\n",
    "    def __init__(self, start, end):\n",
    "        self.current = start\n",
    "        self.end = end\n",
    "\n",
    "    def __iter__(self):\n",
    "        return self\n",
    "\n",
    "    def __next__(self):\n",
    "        if self.current >= self.end:\n",
    "            raise StopIteration\n",
    "        current = self.current\n",
    "        self.current += 1\n",
    "        return current\n",
    "\n",
    "my_range = MyRange(1, 5)\n",
    "for num in my_range:\n",
    "    print(num)  # Output: 1 2 3 4"
   ]
  },
  {
   "cell_type": "markdown",
   "metadata": {},
   "source": []
  },
  {
   "cell_type": "markdown",
   "metadata": {},
   "source": [
    "#### PRACTICE QUESTION\n",
    "\n",
    "Create a array-like object that supports \n",
    "1) indexing,\n",
    "2) iteration \n",
    "3) and adding with another list of same size."
   ]
  },
  {
   "cell_type": "markdown",
   "metadata": {},
   "source": []
  }
 ],
 "metadata": {
  "kernelspec": {
   "display_name": "base",
   "language": "python",
   "name": "python3"
  },
  "language_info": {
   "codemirror_mode": {
    "name": "ipython",
    "version": 3
   },
   "file_extension": ".py",
   "mimetype": "text/x-python",
   "name": "python",
   "nbconvert_exporter": "python",
   "pygments_lexer": "ipython3",
   "version": "3.12.7"
  }
 },
 "nbformat": 4,
 "nbformat_minor": 2
}
