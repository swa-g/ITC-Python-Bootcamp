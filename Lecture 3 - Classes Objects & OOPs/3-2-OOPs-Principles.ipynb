{
 "cells": [
  {
   "cell_type": "markdown",
   "metadata": {},
   "source": [
    "### Basic OOP Principles in Python\n",
    "\n",
    "Object-Oriented Programming (OOP) is a programming paradigm that uses objects and classes to structure software. The four basic principles of OOP are:\n",
    "\n",
    "1. **Encapsulation**: Bundling the data (attributes) and methods (functions) that operate on the data into a single unit, or class. It restricts direct access to some of the object's components, which can prevent the accidental modification of data.\n",
    "\n",
    "2. **Abstraction**: Hiding the complex implementation details and showing only the necessary features of the object. This helps in reducing programming complexity and effort.\n",
    "\n",
    "3. **Inheritance**: Creating a new class from an existing class. The new class (child class) inherits attributes and methods from the existing class (parent class), allowing for code reusability and the creation of a hierarchical relationship between classes.\n",
    "\n",
    "4. **Polymorphism**: Allowing objects of different classes to be treated as objects of a common super class. It is achieved through method overriding and method overloading."
   ]
  },
  {
   "cell_type": "code",
   "execution_count": null,
   "metadata": {},
   "outputs": [],
   "source": [
    "# Encapsulation\n",
    "class Car:\n",
    "    def __init__(self, make, model, year):\n",
    "        self.__make = make  # Private attribute\n",
    "        self.__model = model  # Private attribute\n",
    "        self.__year = year  # Private attribute\n",
    "\n",
    "    def get_details(self):\n",
    "        return f\"{self.__year} {self.__make} {self.__model}\"\n",
    "\n",
    "# Abstraction\n",
    "class Shape:\n",
    "    def area(self):\n",
    "        pass\n",
    "\n",
    "class Rectangle(Shape):\n",
    "    def __init__(self, width, height):\n",
    "        self.width = width\n",
    "        self.height = height\n",
    "\n",
    "    def area(self):\n",
    "        return self.width * self.height\n",
    "\n",
    "# Inheritance\n",
    "class Animal:\n",
    "    def speak(self):\n",
    "        pass\n",
    "\n",
    "class Dog(Animal):\n",
    "    def speak(self):\n",
    "        return \"Woof!\"\n",
    "\n",
    "class Cat(Animal):\n",
    "    def speak(self):\n",
    "        return \"Meow!\"\n",
    "\n",
    "# Polymorphism\n",
    "def make_animal_speak(animal):\n",
    "    print(animal.speak())\n",
    "\n",
    "# Usage\n",
    "car = Car(\"Toyota\", \"Corolla\", 2020)\n",
    "print(car.get_details())  # Encapsulation\n",
    "\n",
    "rectangle = Rectangle(5, 10)\n",
    "print(rectangle.area())  # Abstraction\n",
    "\n",
    "dog = Dog()\n",
    "cat = Cat()\n",
    "make_animal_speak(dog)  # Polymorphism\n",
    "make_animal_speak(cat)  # Polymorphism"
   ]
  },
  {
   "cell_type": "markdown",
   "metadata": {},
   "source": []
  },
  {
   "cell_type": "markdown",
   "metadata": {},
   "source": [
    "### PRACTICE QUESTIONS\n",
    "\n",
    "Based on the Box Class Create two sub classes plastic box and wooden box. In the child classes have a function that calculates the price of the box. Plastic box is Rs. 5 per unit volume and Wooden Box is Rs. 10 per unit volume."
   ]
  },
  {
   "cell_type": "markdown",
   "metadata": {},
   "source": []
  },
  {
   "cell_type": "markdown",
   "metadata": {},
   "source": []
  }
 ],
 "metadata": {
  "kernelspec": {
   "display_name": "base",
   "language": "python",
   "name": "python3"
  },
  "language_info": {
   "codemirror_mode": {
    "name": "ipython",
    "version": 3
   },
   "file_extension": ".py",
   "mimetype": "text/x-python",
   "name": "python",
   "nbconvert_exporter": "python",
   "pygments_lexer": "ipython3",
   "version": "3.12.7"
  }
 },
 "nbformat": 4,
 "nbformat_minor": 2
}
